{
 "cells": [
  {
   "cell_type": "markdown",
   "metadata": {},
   "source": [
    "# Introduction"
   ]
  },
  {
   "cell_type": "markdown",
   "metadata": {},
   "source": [
    "<iframe src=\"https://www.slideshare.net/slideshow/embed_code/key/CdSVKZiAMeBtqX\" width=\"595\" height=\"485\" frameborder=\"0\" marginwidth=\"0\" marginheight=\"0\" scrolling=\"no\" style=\"border:1px solid #CCC; border-width:1px; margin-bottom:5px; max-width: 100%;\" allowfullscreen> </iframe> <div style=\"margin-bottom:5px\"> <strong> <a href=\"https://www.slideshare.net/secret/CdSVKZiAMeBtqX\" title=\"01 Introduction\" target=\"_blank\"></a> </strong></div>"
   ]
  },
  {
   "cell_type": "markdown",
   "metadata": {},
   "source": [
    "## References"
   ]
  },
  {
   "cell_type": "markdown",
   "metadata": {},
   "source": [
    "Becker, G. S. (1994). *Human capital: A theoretical and empirical analysis, with special reference to education* (3rd ed.). Chicago, IL: Chicago University Press.\n",
    "\n",
    "Ben-Porath, Y. (1967). [The production of human capital and the life cycle of earnings.](http://www.jstor.org/stable/pdf/1828596.pdf) *Journal of Political Economy*, 75(4, Part 1), 352–365.\n",
    "\n",
    "Lagakos, D., Moll, B., Porzio, T., Qian, N., & Schoellman, T. (2018). [Life cycle wage growth across countries.](https://www.journals.uchicago.edu/doi/abs/10.1086/696225?journalCode=jpe) *Journal of Political Economy*, 126(2), 797–849.\n",
    "\n",
    "Spence, M. (1973). [Job market signaling.](http://www.jstor.org/stable/1882010?seq=1#page_scan_tab_contents) *Quarterly Journal of Economics*, 87(3), 355–374.\n",
    "\n",
    "Weiss, Y. (1986). [The determination of life cycle earnings: A survey.](https://www.sciencedirect.com/science/article/pii/S1573446386010143) In O. Ashenfelter & R. Layard (Eds.), *Handbook of labor economics* (Vol. 1, pp. 603–640). Amsterdam, Netherlands: North-Holland Publishing Company."
   ]
  }
 ],
 "metadata": {
  "kernelspec": {
   "display_name": "Python 3",
   "language": "python",
   "name": "python3"
  },
  "language_info": {
   "codemirror_mode": {
    "name": "ipython",
    "version": 3
   },
   "file_extension": ".py",
   "mimetype": "text/x-python",
   "name": "python",
   "nbconvert_exporter": "python",
   "pygments_lexer": "ipython3",
   "version": "3.7.9"
  }
 },
 "nbformat": 4,
 "nbformat_minor": 4
}
